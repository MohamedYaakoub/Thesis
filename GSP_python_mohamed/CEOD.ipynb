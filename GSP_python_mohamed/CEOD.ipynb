{
 "cells": [
  {
   "cell_type": "code",
   "execution_count": 1,
   "id": "597426fd",
   "metadata": {},
   "outputs": [],
   "source": [
    "import numpy as np\n",
    "import pandas as pd\n",
    "import os\n",
    "# import zipfile\n",
    "import pickle\n",
    "from matplotlib import pyplot as plt"
   ]
  },
  {
   "cell_type": "code",
   "execution_count": 2,
   "id": "35f0cdab",
   "metadata": {},
   "outputs": [],
   "source": [
    "# def unzip_all_files(source_dir, destination_dir):\n",
    "#     # Iterate through all files in the source directory\n",
    "#     for file_name in os.listdir(source_dir)[1:]:\n",
    "#         # Construct the full path of the file\n",
    "#         file_path = os.path.join(source_dir, file_name)\n",
    "\n",
    "#         # Check if the file is a zip archive\n",
    "\n",
    "#         if zipfile.is_zipfile(file_path):\n",
    "#             # Open the zip archive\n",
    "#             with zipfile.ZipFile(file_path, 'r') as zip_ref:\n",
    "#                 # Extract all files to the destination directory\n",
    "#                 zip_ref.extractall(destination_dir)\n",
    "#                 print(f\"Extracted files from {file_name} to {destination_dir}\")\n",
    "#         else:\n",
    "#             print(f\"{file_name} is not a zip file. Skipping...\")\n",
    "\n",
    "# # Usage example\n",
    "\n",
    "# destination_directory = 'CEOD_GEnx/csv files'"
   ]
  },
  {
   "cell_type": "code",
   "execution_count": 3,
   "id": "d1dd1c36",
   "metadata": {},
   "outputs": [],
   "source": [
    "# flight_file_path = \"C:/Users/mohsy/University/KLM/Air France KLM/ES Data Team - GEnx CEOD/\"\n",
    "# # zip_files = os.listdir(flight_file_path)[1:]\n",
    "# unzip_all_files(flight_file_path, destination_directory)"
   ]
  },
  {
   "cell_type": "code",
   "execution_count": 4,
   "id": "aed67ee7",
   "metadata": {},
   "outputs": [],
   "source": [
    "# for zip_file in zip_files:\n",
    "#     with ZipFile(flight_file_path + \"/\" + zip_file, 'r') as zip:\n",
    "#         # extracting all the files\n",
    "# #         print('Extracting all the files now...')\n",
    "# #         zip.extractall()\n",
    "#         for csv_file in zip.namelist():\n",
    "#             df = pd.read_csv(zip.open(csv_file))[0]\n",
    "\n",
    "#     print(df.shape)\n",
    "#     break"
   ]
  },
  {
   "cell_type": "code",
   "execution_count": 5,
   "id": "0fa4baab",
   "metadata": {},
   "outputs": [],
   "source": [
    "ToExtractParams = [\n",
    "    # \"FADEC Bit-packed Trigger Word : CLIMB CONDITIONS DETECTED\",\n",
    "    \"Offset\",\n",
    "    \"Selected Core Compartment Cooling (CCC) Valve Position (%)\",\n",
    "    \"Selected CAI (Cowl Anti Ice) Bleed Config\",\n",
    "    \"Selected Booster Anti-Ice (BAI) Pressure (PSIA)\",\n",
    "    \"Selected Transient Bleed Valve (TBV) Position (%)\",\n",
    "    \"Selected Variable Bleed Valve (VBV) Position (%)\",\n",
    "    \"Selected Variable Stator Vane (VSV) Position (%)\",\n",
    "    \"Selected HP Turbine Active Clearance Control Valve Position (%)\",\n",
    "    \"Selected LP Turbine Active Clearance Control Valve Position (%)\",\n",
    "    \"Total Engine Horsepower Extraction (HP)\",\n",
    "    \"Selected Mass Fuel Flow (PPH)\",\n",
    "    \"Average Gas Temperature at Station 25 (DEG_C)\",\n",
    "    \"Calculated Ambient Temperature (DEG_C)\",\n",
    "    \"Selected Compressor Delay Total Temperature (DEG_C)\",  # TT3\n",
    "    \"Selected Compressor Discharge Static Pressure (PSIA)\",\n",
    "    \"Selected Ambient Static Pressure (PSIA)\",\n",
    "    \"Selected Exhaust Gas Temperature (DEG_C)\",\n",
    "    \"Selected HP Comp Inlet Total Temperature (DEG_C)\",\n",
    "    \"Selected PT2 Pressure (PSIA)\",\n",
    "    \"Selected Total Temperature at Station 12 (DEG_C)\",\n",
    "    \"Selected Fan Speed (%)\",\n",
    "    \"Corrected Fan Speed to Station 12 (%)\",\n",
    "    \"Selected Core Speed (%)\",\n",
    "    \"Corrected Core Speed to Station 25 (%)\",\n",
    "    \"Core Speed Rate of Change (%N2/SEC)\",\n",
    "    \"Altitude based on P0 (FT)\",\n",
    "    \"UVL_FLIGHTPHS\",\n",
    "    \"Selected Mach Number (MACH)\",\n",
    "    \"Pitch Angle from Aircraft (DEGREES)\",\n",
    "    \"Roll Angle from Aircraft (DEGREES)\",\n",
    "    \"Calculated Core Airflow (PPS)\",\n",
    "    # \"Calculated Fuel to Air Ratio\"\n",
    "    'Header: Start Date'\n",
    "]"
   ]
  },
  {
   "cell_type": "code",
   "execution_count": 20,
   "id": "5a33db2a",
   "metadata": {},
   "outputs": [
    {
     "name": "stdout",
     "output_type": "stream",
     "text": [
      "hi\n"
     ]
    }
   ],
   "source": [
    "for file in os.listdir(\"CEOD_GEnx/csv files\"):\n",
    "    print('hi')\n",
    "#     file = '200408-203904-KLM168____-KATLEHAM-KL_PH-BHA-2-956609-W010FFD.csv'\n",
    "    file = '160801-040522-KLM884____-ZSAMEHAM-KL_PH-BHA-2-956609-W007FFD.csv'\n",
    "    data = pd.read_csv(\"CEOD_GEnx/csv files/\" + file, skiprows=1, index_col=False, header=0, dtype=np.float32, usecols=ToExtractParams)\n",
    "    data[\"Header: Start Date\"][:]  = data['Header: Start Date'][0]\n",
    "    dataCL = data[(data[\"UVL_FLIGHTPHS\"] == 6)]\n",
    "#     dataCL = dataCL.tail(50)\n",
    "#     print(dataCL.shape)\n",
    "    break"
   ]
  },
  {
   "cell_type": "code",
   "execution_count": 21,
   "id": "b1463b3c",
   "metadata": {},
   "outputs": [
    {
     "name": "stdout",
     "output_type": "stream",
     "text": [
      "(6, 32)\n",
      "(70, 32)\n",
      "(746, 32)\n"
     ]
    }
   ],
   "source": [
    "data   = data.dropna(axis=0).reset_index(drop=True)\n",
    "dataCL = dataCL.dropna(axis=0).reset_index(drop=True)\n",
    "#     dataCL = dataCL.tail(50)\n",
    "    \n",
    "    \n",
    "#     dataCL = dataCL.dropna(axis=0).reset_index(drop=True)\n",
    "    \n",
    "dataCL = dataCL[(dataCL[\"Core Speed Rate of Change (%N2/SEC)\"] > - 0.1)\n",
    "               & (dataCL[\"Core Speed Rate of Change (%N2/SEC)\"] < 0.1)\n",
    "               & (dataCL[\"Selected HP Turbine Active Clearance Control Valve Position (%)\"] < 20)\n",
    "               & (dataCL[\"Selected LP Turbine Active Clearance Control Valve Position (%)\"] < 55)\n",
    "               & (dataCL[\"Selected CAI (Cowl Anti Ice) Bleed Config\"] > 0.1)\n",
    "               & (dataCL[\"Altitude based on P0 (FT)\"] < 35000)\n",
    "               & (dataCL[\"Altitude based on P0 (FT)\"] > 28000)\n",
    "               & (np.round(dataCL[\"Corrected Fan Speed to Station 12 (%)\"], 1) != 101.8)\n",
    "               ]\n",
    "dataTO = data[(data[\"Core Speed Rate of Change (%N2/SEC)\"] > - 0.2)\n",
    "          & (data[\"Core Speed Rate of Change (%N2/SEC)\"] < 0.2)\n",
    "          & (data[\"UVL_FLIGHTPHS\"] == 4)\n",
    "          & (data[\"Selected Transient Bleed Valve (TBV) Position (%)\"] < 1)\n",
    "          & (data[\"Selected Variable Bleed Valve (VBV) Position (%)\"] < -0.1)\n",
    "          & (data[\"Selected Variable Stator Vane (VSV) Position (%)\"] < 90)\n",
    "#               & (data[\"Selected HP Turbine Active Clearance Control Valve Position (%)\"] < 25)\n",
    "          & (data[\"Selected LP Turbine Active Clearance Control Valve Position (%)\"] < 48)\n",
    "          & (data[\"Selected CAI (Cowl Anti Ice) Bleed Config\"] < 0.1)\n",
    "          & (data[\"Pitch Angle from Aircraft (DEGREES)\"] > 0.5)\n",
    "          ]\n",
    "\n",
    "dataCR = data[(data[\"Core Speed Rate of Change (%N2/SEC)\"] > - 0.1)\n",
    "          & (data[\"Core Speed Rate of Change (%N2/SEC)\"] < 0.1)\n",
    "          & (data[\"UVL_FLIGHTPHS\"] == 7)\n",
    "          & (data[\"Selected Transient Bleed Valve (TBV) Position (%)\"] < 1)\n",
    "          & (data[\"Selected Booster Anti-Ice (BAI) Pressure (PSIA)\"] < 10)\n",
    "          & (data[\"Selected CAI (Cowl Anti Ice) Bleed Config\"] > 0.1)\n",
    "          & (data[\"Selected Booster Anti-Ice (BAI) Pressure (PSIA)\"] < 5)\n",
    "          & (data[\"Selected Core Compartment Cooling (CCC) Valve Position (%)\"] > 99)\n",
    "          & (data[\"Selected Variable Bleed Valve (VBV) Position (%)\"] < -0.08)\n",
    "          & (data[\"Selected Variable Bleed Valve (VBV) Position (%)\"] > -0.19)\n",
    "          & (data[\"Selected Variable Stator Vane (VSV) Position (%)\"] < 80)\n",
    "          & (data[\"Selected HP Turbine Active Clearance Control Valve Position (%)\"] < 70)\n",
    "          & (data[\"Selected HP Turbine Active Clearance Control Valve Position (%)\"] > 40)\n",
    "          & (data[\"Selected LP Turbine Active Clearance Control Valve Position (%)\"] > 70)\n",
    "          ]\n",
    "#     print(dataCL)\n",
    "print(dataTO.shape)\n",
    "print(dataCL.shape)\n",
    "print(dataCR.shape)"
   ]
  },
  {
   "cell_type": "code",
   "execution_count": 22,
   "id": "a70e34ee",
   "metadata": {},
   "outputs": [],
   "source": [
    "ind_drop = np.array([], dtype=np.int32)\n",
    "\n",
    "unique_n1C = np.unique(dataCR['Corrected Fan Speed to Station 12 (%)'].values.round(decimals=0))\n",
    "\n",
    "unique_Alt = np.unique(dataCR[\"Altitude based on P0 (FT)\"].values.round(decimals=-3))\n",
    "\n",
    "for i in range(len(unique_Alt)):\n",
    "    # ind_N1c = np.array([], dtype=np.int32)\n",
    "    indicesA = np.where(dataCR[\"Altitude based on P0 (FT)\"].values.round(decimals=-3) == unique_Alt[i])[0]\n",
    "    for j in range(len(unique_n1C)):\n",
    "        indicesN = \\\n",
    "        np.where(dataCR['Corrected Fan Speed to Station 12 (%)'].values.round(decimals=0) == unique_n1C[j])[0]\n",
    "        indices = np.intersect1d(indicesA, indicesN)\n",
    "        if len(indices) >= 5:\n",
    "            ind_drop = np.append(ind_drop, indices[:5])\n",
    "        else:\n",
    "            ind_drop = np.append(ind_drop, indices[:len(indices)+1])\n",
    "\n",
    "dataCR2 = dataCR.loc[dataCR.index[ind_drop]]\n",
    "\n",
    "GEnx_ODL, GEnx_OD_trueL, N1cCEODL, N1CEODL = [], [], [], []\n",
    "\n",
    "for i, dataI in enumerate([dataTO, dataCL, dataCR2]):  #\n",
    "\n",
    "    data = dataI\n",
    "\n",
    "    g = 1.4\n",
    "    isentr = 1 + (g - 1) * 0.5 * data[\"Selected Mach Number (MACH)\"] ** 2\n",
    "    TsComp = (data[\"Selected Total Temperature at Station 12 (DEG_C)\"] + 273.15) / isentr\n",
    "    PsComp = (data[\"Selected PT2 Pressure (PSIA)\"] * 0.0689475729) / isentr ** (g / (g - 1))\n",
    "\n",
    "    # N1c = data[\"Selected Fan Speed (%)\"]/np.sqrt((data[\"Selected Total Temperature at Station 12 (DEG_C)\"] + 273.15)/288)\n",
    "    N1cdp = 94.96 / (np.sqrt((287.5*275.55) / (288.15 * 287.05)))  # old model (un-calib)\n",
    "    N1cdp2 = 96.96/(np.sqrt((288.18*285.6)/(288.15*287.05)))  # new model (calib) + martijn model\n",
    "    # N1c   = 100*data[\"Selected Fan Speed (%)\"]\\\n",
    "    #         / (np.sqrt((288*(data[\"Selected Total Temperature at Station 12 (DEG_C)\"] + 273.15))/(288.15*287.05))) / N1cdp\n",
    "    N1c   = 100*data[\"Selected Fan Speed (%)\"]\\\n",
    "            / (np.sqrt((288*(data[\"Selected Total Temperature at Station 12 (DEG_C)\"] + 273.15))/(288.15*287.05))) / N1cdp2\n",
    "\n",
    "    GEnx_OD_true = np.vstack((data[\"Selected Fan Speed (%)\"],\n",
    "                              N1c,\n",
    "                              data[\"Corrected Fan Speed to Station 12 (%)\"],\n",
    "                              data[\"Selected HP Comp Inlet Total Temperature (DEG_C)\"] + 273.15,\n",
    "                              data[\"Selected Compressor Delay Total Temperature (DEG_C)\"] + 273.15,\n",
    "                              data[\"Selected Compressor Discharge Static Pressure (PSIA)\"] * 0.0689475729,\n",
    "                              data[\"Selected Exhaust Gas Temperature (DEG_C)\"] + 273.15,\n",
    "                              data[\"Selected Mass Fuel Flow (PPH)\"] * 0.0001259979,\n",
    "                              data[\"Selected Core Speed (%)\"]\n",
    "                              # data[\"Calculated Core Airflow (PPS)\"] * 0.45359237\n",
    "                              # data[\"Selected PT2 Pressure (PSIA)\"] * 0.0689475729,\n",
    "                              # data[\"Selected Total Temperature at Station 12 (DEG_C)\"] + 273.15\n",
    "                              )).T\n",
    "\n",
    "    GEnx_OD_true = GEnx_OD_true[GEnx_OD_true[:, 1].argsort()]\n",
    "\n",
    "    GEnx_OD_true = np.flip(GEnx_OD_true, axis=0)\n",
    "    N1CEOD       = GEnx_OD_true[:, 0]\n",
    "    N1cCEOD      = GEnx_OD_true[:, 2]\n",
    "    GEnx_OD_true = GEnx_OD_true[:, 3:]\n",
    "\n",
    "\n",
    "    GEnx_OD = np.vstack((N1c,\n",
    "                         # data[\"Corrected Fan Speed to Station 12 (%)\"],\n",
    "                         PsComp,\n",
    "                         TsComp,\n",
    "                         # data[\"Selected Ambient Static Pressure (PSIA)\"] * 0.0689475729,\n",
    "                         # data[\"Calculated Ambient Temperature (DEG_C)\"] + 273.15,\n",
    "                         data[\"Selected Mach Number (MACH)\"],\n",
    "                         data[\"Total Engine Horsepower Extraction (HP)\"] * 0.745699872)).T\n",
    "\n",
    "    GEnx_OD = GEnx_OD[GEnx_OD[:, 0].argsort()]\n",
    "    GEnx_OD = np.flip(GEnx_OD, axis=0)\n",
    "    Cv      = np.full((GEnx_OD.shape[0], 1), 0.98) if i==0 else np.full((GEnx_OD.shape[0], 1), 1)\n",
    "    # GEnx_OD = np.hstack((GEnx_OD, Cv))\n",
    "\n",
    "    GEnx_ODL.append(GEnx_OD)\n",
    "    GEnx_OD_trueL.append(GEnx_OD_true)\n",
    "    N1cCEODL.append(N1cCEOD)\n",
    "    N1CEODL.append(N1CEOD)"
   ]
  },
  {
   "cell_type": "code",
   "execution_count": 32,
   "id": "da4a07c6",
   "metadata": {},
   "outputs": [
    {
     "name": "stdout",
     "output_type": "stream",
     "text": [
      "(103,)\n"
     ]
    },
    {
     "data": {
      "image/png": "[encoded data removed]",
      "text/plain": [
       "<Figure size 640x480 with 1 Axes>"
      ]
     },
     "metadata": {},
     "output_type": "display_data"
    },
    {
     "data": {
      "text/plain": [
       "{'whiskers': [<matplotlib.lines.Line2D at 0x22a5fffa310>,\n",
       "  <matplotlib.lines.Line2D at 0x22a5fffa5e0>],\n",
       " 'caps': [<matplotlib.lines.Line2D at 0x22a5fffa970>,\n",
       "  <matplotlib.lines.Line2D at 0x22a5fffad00>],\n",
       " 'boxes': [<matplotlib.lines.Line2D at 0x22a6016be80>],\n",
       " 'medians': [<matplotlib.lines.Line2D at 0x22a600080d0>],\n",
       " 'fliers': [<matplotlib.lines.Line2D at 0x22a60008460>],\n",
       " 'means': []}"
      ]
     },
     "execution_count": 32,
     "metadata": {},
     "output_type": "execute_result"
    },
    {
     "data": {
      "image/png": "[encoded data removed]",
      "text/plain": [
       "<Figure size 640x480 with 1 Axes>"
      ]
     },
     "metadata": {},
     "output_type": "display_data"
    }
   ],
   "source": [
    "# for i in range(3):\n",
    "flight_phase = 2\n",
    "print(GEnx_ODL[flight_phase][:,0].shape)\n",
    "plt.scatter(GEnx_ODL[flight_phase][:,0], GEnx_ODL[flight_phase][:,2], alpha=0.3)\n",
    "plt.show()\n",
    "\n",
    "plt.boxplot(GEnx_ODL[flight_phase][:,0])"
   ]
  },
  {
   "cell_type": "code",
   "execution_count": null,
   "id": "e6d361e8",
   "metadata": {},
   "outputs": [],
   "source": [
    "# pickle.dump([GEnx_ODL, GEnx_OD_trueL, N1cCEODL], open(\"CEOD_GEnx/CEOD_\" + file.strip(\".csv\") + \".p\", \"wb\"))"
   ]
  },
  {
   "cell_type": "code",
   "execution_count": null,
   "id": "c584c3f8",
   "metadata": {},
   "outputs": [],
   "source": [
    "# GEnx_ODL, GEnx_OD_trueL, N1cCEODL = pickle.load(open(\"CEOD_GEnx/CEOD_200408-203904-KLM168____-KATLEHAM-KL_PH-BHA-2-956609-W010FFD.p\",\n",
    "#                                                     \"rb\"))\n",
    "# \n",
    "# print(GEnx_ODL[2].shape)"
   ]
  },
  {
   "cell_type": "code",
   "execution_count": null,
   "id": "9c10cc7c",
   "metadata": {},
   "outputs": [],
   "source": []
  },
  {
   "cell_type": "code",
   "execution_count": null,
   "id": "378bcc4e",
   "metadata": {},
   "outputs": [],
   "source": []
  }
 ],
 "metadata": {
  "kernelspec": {
   "display_name": "Python 3 (ipykernel)",
   "language": "python",
   "name": "python3"
  },
  "language_info": {
   "codemirror_mode": {
    "name": "ipython",
    "version": 3
   },
   "file_extension": ".py",
   "mimetype": "text/x-python",
   "name": "python",
   "nbconvert_exporter": "python",
   "pygments_lexer": "ipython3",
   "version": "3.9.7"
  }
 },
 "nbformat": 4,
 "nbformat_minor": 5
}
