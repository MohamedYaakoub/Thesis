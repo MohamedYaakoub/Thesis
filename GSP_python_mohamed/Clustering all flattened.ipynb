{
 "cells": [
  {
   "cell_type": "code",
   "execution_count": 64,
   "id": "38c7b921",
   "metadata": {},
   "outputs": [],
   "source": [
    "import pickle\n",
    "import numpy as np\n",
    "\n",
    "import sys\n",
    "from GSP_helper import cleanup, runGsp\n",
    "from matplotlib import pyplot as plt\n",
    "\n",
    "from kneed import KneeLocator\n",
    "from sklearn.cluster import KMeans\n",
    "from sklearn.datasets import make_blobs\n"
   ]
  },
  {
   "cell_type": "code",
   "execution_count": 65,
   "id": "c7ec2bc5",
   "metadata": {},
   "outputs": [
    {
     "name": "stdout",
     "output_type": "stream",
     "text": [
      "3.9.7 (tags/v3.9.7:1016ef3, Aug 30 2021, 20:19:38) [MSC v.1929 64 bit (AMD64)]\n"
     ]
    }
   ],
   "source": [
    "print(sys.version)"
   ]
  },
  {
   "cell_type": "code",
   "execution_count": 66,
   "id": "bb1919ec",
   "metadata": {},
   "outputs": [],
   "source": [
    "inputs_list = [\"N1\", \"P0\", \"T0\", \"Mach\", \"HP\"]\n",
    "output_list = [\"TT25\", \"TT3\", \"Ps3\", \"TT49\", \"Wf\", \"N2\", \"Re2\", \"Re25\", \"Re3\", \"Re4\", \"Re49\", \"Re5\", \"Re14\", \"Re19\"]"
   ]
  },
  {
   "cell_type": "code",
   "execution_count": 67,
   "id": "05aa5469",
   "metadata": {},
   "outputs": [],
   "source": [
    "GEnx_OD, GEnx_OD_true, N1cCEOD = pickle.load(open(\"CEOD_input.p\", \"rb\"))\n",
    "_, All_Reynolds = pickle.load(open(\"Constants/Reynolds_set_Valid.p\", \"rb\"))"
   ]
  },
  {
   "cell_type": "code",
   "execution_count": 68,
   "id": "3ce5a9f4",
   "metadata": {},
   "outputs": [],
   "source": [
    "All_Reynolds_flatten = np.array([item for sublist in All_Reynolds for item in sublist])\n",
    "GEnx_OD_flatten = np.array([item for sublist in GEnx_OD for item in sublist])\n",
    "GEnx_OD_true_flatten = np.array([item for sublist in GEnx_OD_true for item in sublist])\n",
    "\n",
    "Re2, Re25, Re3, Re4, Re49, Re5, Re14, Re19 = All_Reynolds_flatten.T"
   ]
  },
  {
   "cell_type": "code",
   "execution_count": 74,
   "id": "40e22a0d",
   "metadata": {},
   "outputs": [
    {
     "name": "stdout",
     "output_type": "stream",
     "text": [
      "[[6.38793772e+06 9.79348417e+01]\n",
      " [1.74735706e+07 9.57508022e+01]\n",
      " [1.05933894e+07 1.04727426e+02]]\n"
     ]
    }
   ],
   "source": [
    "def create_clusters(dataset):\n",
    "    k_means = KMeans(init='k-means++', n_clusters=3, n_init=10)\n",
    "    k_means.fit(dataset)\n",
    "    k_means_cluster_centers = k_means.cluster_centers_\n",
    "    \n",
    "    print(k_means_cluster_centers)\n",
    "    \n",
    "    return k_means_cluster_centers\n",
    "\n",
    "Re_25_clusters = create_clusters(np.vstack((Re25, GEnx_OD_flatten[:, 0])).T)"
   ]
  },
  {
   "cell_type": "code",
   "execution_count": 78,
   "id": "ff4757fe",
   "metadata": {},
   "outputs": [
    {
     "name": "stdout",
     "output_type": "stream",
     "text": [
      "(309,) (309,)\n"
     ]
    },
    {
     "data": {
      "image/png": "[encoded data removed]",
      "text/plain": [
       "<Figure size 640x480 with 1 Axes>"
      ]
     },
     "metadata": {},
     "output_type": "display_data"
    }
   ],
   "source": [
    "print(GEnx_OD_flatten[:, 0].shape, Re25.shape)\n",
    "colors = ['#4EACC5', '#FF9C34', '#4E9A06']\n",
    "plt.scatter(GEnx_OD_flatten[:, 0], Re25, color=colors[0], marker='.')\n",
    "plt.plot(Re_25_clusters.T[1], Re_25_clusters.T[0], 'o', markerfacecolor=colors[1],\n",
    "                 markeredgecolor='k', markersize=6)\n",
    "plt.show()"
   ]
  },
  {
   "cell_type": "code",
   "execution_count": 71,
   "id": "92ef1076",
   "metadata": {},
   "outputs": [],
   "source": [
    "# def create_clustersss():\n",
    "#     k_means = KMeans(init='k-means++', n_clusters=3, n_init=10)\n",
    "#     k_means.fit(Re25)\n",
    "#     k_means_labels = k_means.labels_\n",
    "#     k_means_cluster_centers = k_means.cluster_centers_\n",
    "#     k_means_labels_unique = np.unique(k_means_labels)\n",
    "\n",
    "#     colors = ['#4EACC5', '#FF9C34', '#4E9A06']\n",
    "#     plt.figure()\n",
    "#     print(k_means_cluster_centers)\n",
    "\n",
    "# #     for k, col in zip(range(3), colors):\n",
    "# #         my_members = k_means_labels == k\n",
    "# #         cluster_center = k_means_cluster_centers[k]\n",
    "# #         # plt.plot(Re25[my_members, 0], Re25[my_members, 1], 'w',\n",
    "# #         #          markerfacecolor=col, marker='.')\n",
    "# #         plt.plot(cluster_center[0], cluster_center[1], 'o', markerfacecolor=col,\n",
    "# #                  markeredgecolor='k', markersize=6)\n",
    "# #     plt.title('KMeans')\n",
    "#     plt.grid()\n",
    "#     plt.show()\n",
    "# create_clusters()"
   ]
  },
  {
   "cell_type": "code",
   "execution_count": null,
   "id": "9eb5f7a0",
   "metadata": {},
   "outputs": [],
   "source": []
  }
 ],
 "metadata": {
  "kernelspec": {
   "display_name": "Python 3 (ipykernel)",
   "language": "python",
   "name": "python3"
  },
  "language_info": {
   "codemirror_mode": {
    "name": "ipython",
    "version": 3
   },
   "file_extension": ".py",
   "mimetype": "text/x-python",
   "name": "python",
   "nbconvert_exporter": "python",
   "pygments_lexer": "ipython3",
   "version": "3.9.7"
  }
 },
 "nbformat": 4,
 "nbformat_minor": 5
}
